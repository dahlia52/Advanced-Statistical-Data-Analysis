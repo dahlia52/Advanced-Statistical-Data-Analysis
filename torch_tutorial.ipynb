{
  "nbformat": 4,
  "nbformat_minor": 0,
  "metadata": {
    "colab": {
      "provenance": [],
      "gpuType": "T4",
      "authorship_tag": "ABX9TyM+E39usIqod4VZLbXcAxS3",
      "include_colab_link": true
    },
    "kernelspec": {
      "name": "python3",
      "display_name": "Python 3"
    },
    "language_info": {
      "name": "python"
    },
    "accelerator": "GPU"
  },
  "cells": [
    {
      "cell_type": "markdown",
      "metadata": {
        "id": "view-in-github",
        "colab_type": "text"
      },
      "source": [
        "<a href=\"https://colab.research.google.com/github/dahlia52/Advanced-Statistical-Data-Analysis/blob/main/torch_tutorial.ipynb\" target=\"_parent\"><img src=\"https://colab.research.google.com/assets/colab-badge.svg\" alt=\"Open In Colab\"/></a>"
      ]
    },
    {
      "cell_type": "code",
      "execution_count": null,
      "metadata": {
        "id": "9P1Kj9OZ0MrP"
      },
      "outputs": [],
      "source": [
        "import sys\n",
        "import numpy as np\n",
        "import torch\n",
        "import torch.nn as nn"
      ]
    },
    {
      "cell_type": "code",
      "source": [
        "print(sys.version)\n",
        "print(np.__version__)\n",
        "print(torch.__version__)"
      ],
      "metadata": {
        "colab": {
          "base_uri": "https://localhost:8080/"
        },
        "id": "GEGDg-0p0Ugp",
        "outputId": "3a0ddfa3-a067-47f2-a923-bd8f5998695b"
      },
      "execution_count": null,
      "outputs": [
        {
          "output_type": "stream",
          "name": "stdout",
          "text": [
            "3.10.12 (main, Jun 11 2023, 05:26:28) [GCC 11.4.0]\n",
            "1.23.5\n",
            "2.0.1+cu118\n"
          ]
        }
      ]
    },
    {
      "cell_type": "code",
      "source": [
        "# !pip install torch==1.13.1"
      ],
      "metadata": {
        "id": "nI3O7umE0Zv-"
      },
      "execution_count": null,
      "outputs": []
    },
    {
      "cell_type": "code",
      "source": [
        "available_gpu = [torch.cuda.device(i) for i in range(torch.cuda.device_count())]"
      ],
      "metadata": {
        "id": "zZl2rjlT0dps"
      },
      "execution_count": null,
      "outputs": []
    },
    {
      "cell_type": "code",
      "source": [
        "print(available_gpu)\n",
        "print(len(available_gpu))"
      ],
      "metadata": {
        "colab": {
          "base_uri": "https://localhost:8080/"
        },
        "id": "1fUwwW2y1uqD",
        "outputId": "cf119cdc-c6f5-48f8-db85-b5d98c81b9ce"
      },
      "execution_count": null,
      "outputs": [
        {
          "output_type": "stream",
          "name": "stdout",
          "text": [
            "[<torch.cuda.device object at 0x7c8185769de0>]\n",
            "1\n"
          ]
        }
      ]
    },
    {
      "cell_type": "code",
      "source": [
        "# device0 = torch.device(\"cuda:0\")\n",
        "device0 = torch.device(\"cuda:0\" if torch.cuda.is_available() else 'cpu')\n",
        "# device0 = torch.device(\"mps:0\" if torch.backends.mps.is_available() else 'cpu') # m1/m2/mac"
      ],
      "metadata": {
        "id": "Dupvns1P1xx4"
      },
      "execution_count": null,
      "outputs": []
    },
    {
      "cell_type": "code",
      "source": [
        "device0"
      ],
      "metadata": {
        "colab": {
          "base_uri": "https://localhost:8080/"
        },
        "id": "bcDd2gw73Un3",
        "outputId": "1bc8c492-964d-413c-e981-72cd3bbb05a1"
      },
      "execution_count": null,
      "outputs": [
        {
          "output_type": "execute_result",
          "data": {
            "text/plain": [
              "device(type='cuda', index=0)"
            ]
          },
          "metadata": {},
          "execution_count": 6
        }
      ]
    },
    {
      "cell_type": "code",
      "source": [
        "a_np = np.random.randn(2,3,4)\n",
        "b = torch.randn(3,4)"
      ],
      "metadata": {
        "id": "8tE3M5bZ4MwG"
      },
      "execution_count": null,
      "outputs": []
    },
    {
      "cell_type": "code",
      "source": [
        "a_np"
      ],
      "metadata": {
        "colab": {
          "base_uri": "https://localhost:8080/"
        },
        "id": "DW7KD70548bb",
        "outputId": "19365afc-59c6-4887-fd80-332776e0ebaf"
      },
      "execution_count": null,
      "outputs": [
        {
          "output_type": "execute_result",
          "data": {
            "text/plain": [
              "array([[[ 0.46663722,  0.67122192,  0.26786148, -0.52164903],\n",
              "        [-1.22057252, -1.88634861, -0.43874637, -0.88196492],\n",
              "        [ 2.14972571, -0.00990101,  0.63194299, -0.65125494]],\n",
              "\n",
              "       [[-0.50246507, -0.97409498,  0.01787318, -0.20269111],\n",
              "        [-0.03004556,  0.33737973,  1.90565462, -0.46283841],\n",
              "        [ 0.30532597, -0.31866606, -0.48510649,  0.0380892 ]]])"
            ]
          },
          "metadata": {},
          "execution_count": 8
        }
      ]
    },
    {
      "cell_type": "code",
      "source": [
        "b"
      ],
      "metadata": {
        "colab": {
          "base_uri": "https://localhost:8080/"
        },
        "id": "gLOmRAsm49Yu",
        "outputId": "c04a22e3-f224-4f23-b207-0d1e2ef09b4b"
      },
      "execution_count": null,
      "outputs": [
        {
          "output_type": "execute_result",
          "data": {
            "text/plain": [
              "tensor([[-1.3305,  1.2656,  1.1461,  0.0550],\n",
              "        [ 0.7428, -0.2982,  0.7659,  1.0880],\n",
              "        [ 1.6658, -1.2286, -2.9042, -0.6774]])"
            ]
          },
          "metadata": {},
          "execution_count": 9
        }
      ]
    },
    {
      "cell_type": "code",
      "source": [
        "print(type(a_np))\n",
        "print(type(b))"
      ],
      "metadata": {
        "colab": {
          "base_uri": "https://localhost:8080/"
        },
        "id": "N0V8k_Ck4_u_",
        "outputId": "1e5fb54c-3003-41a5-a4a7-8d9bb67023a6"
      },
      "execution_count": null,
      "outputs": [
        {
          "output_type": "stream",
          "name": "stdout",
          "text": [
            "<class 'numpy.ndarray'>\n",
            "<class 'torch.Tensor'>\n"
          ]
        }
      ]
    },
    {
      "cell_type": "code",
      "source": [
        "print(a_np + b) # numpy + tensor 계산 안됨"
      ],
      "metadata": {
        "colab": {
          "base_uri": "https://localhost:8080/",
          "height": 201
        },
        "id": "A6JknKb_5K83",
        "outputId": "5d964875-826d-4e17-9d10-101ff1a9d56d"
      },
      "execution_count": null,
      "outputs": [
        {
          "output_type": "error",
          "ename": "TypeError",
          "evalue": "ignored",
          "traceback": [
            "\u001b[0;31m---------------------------------------------------------------------------\u001b[0m",
            "\u001b[0;31mTypeError\u001b[0m                                 Traceback (most recent call last)",
            "\u001b[0;32m<ipython-input-11-03c34f59945c>\u001b[0m in \u001b[0;36m<cell line: 1>\u001b[0;34m()\u001b[0m\n\u001b[0;32m----> 1\u001b[0;31m \u001b[0mprint\u001b[0m\u001b[0;34m(\u001b[0m\u001b[0ma_np\u001b[0m \u001b[0;34m+\u001b[0m \u001b[0mb\u001b[0m\u001b[0;34m)\u001b[0m\u001b[0;34m\u001b[0m\u001b[0;34m\u001b[0m\u001b[0m\n\u001b[0m",
            "\u001b[0;31mTypeError\u001b[0m: Concatenation operation is not implemented for NumPy arrays, use np.concatenate() instead. Please do not rely on this error; it may not be given on all Python implementations."
          ]
        }
      ]
    },
    {
      "cell_type": "code",
      "source": [
        "print(b + a_np)"
      ],
      "metadata": {
        "colab": {
          "base_uri": "https://localhost:8080/"
        },
        "id": "JZkFL2tX5DeF",
        "outputId": "08e78360-9622-4e1d-e3b4-2b5de5c499ce"
      },
      "execution_count": null,
      "outputs": [
        {
          "output_type": "stream",
          "name": "stdout",
          "text": [
            "tensor([[[-0.8638,  1.9368,  1.4140, -0.4666],\n",
            "         [-0.4778, -2.1845,  0.3272,  0.2061],\n",
            "         [ 3.8156, -1.2385, -2.2722, -1.3287]],\n",
            "\n",
            "        [[-1.8329,  0.2915,  1.1640, -0.1477],\n",
            "         [ 0.7128,  0.0392,  2.6716,  0.6252],\n",
            "         [ 1.9712, -1.5473, -3.3893, -0.6393]]], dtype=torch.float64)\n"
          ]
        }
      ]
    },
    {
      "cell_type": "code",
      "source": [
        "a = torch.tensor(a_np) # tensor로 변환"
      ],
      "metadata": {
        "id": "ezCb_Lqo5QnK"
      },
      "execution_count": null,
      "outputs": []
    },
    {
      "cell_type": "code",
      "source": [
        "print(a+b)"
      ],
      "metadata": {
        "id": "3qE2KOKC5Say",
        "colab": {
          "base_uri": "https://localhost:8080/"
        },
        "outputId": "740bd623-d71a-4bc0-d846-f5bc5d637842"
      },
      "execution_count": null,
      "outputs": [
        {
          "output_type": "stream",
          "name": "stdout",
          "text": [
            "tensor([[[-0.8638,  1.9368,  1.4140, -0.4666],\n",
            "         [-0.4778, -2.1845,  0.3272,  0.2061],\n",
            "         [ 3.8156, -1.2385, -2.2722, -1.3287]],\n",
            "\n",
            "        [[-1.8329,  0.2915,  1.1640, -0.1477],\n",
            "         [ 0.7128,  0.0392,  2.6716,  0.6252],\n",
            "         [ 1.9712, -1.5473, -3.3893, -0.6393]]], dtype=torch.float64)\n"
          ]
        }
      ]
    },
    {
      "cell_type": "code",
      "source": [
        "b_np = b.numpy() # numpy로 변환"
      ],
      "metadata": {
        "id": "vH94Eav0gxSE"
      },
      "execution_count": null,
      "outputs": []
    },
    {
      "cell_type": "code",
      "source": [
        "print(a_np + b_np) # numpy + numpy"
      ],
      "metadata": {
        "colab": {
          "base_uri": "https://localhost:8080/"
        },
        "id": "djfvZ2rZg0mN",
        "outputId": "0a40fe26-4abe-436c-c3dc-c854dca96aa7"
      },
      "execution_count": null,
      "outputs": [
        {
          "output_type": "stream",
          "name": "stdout",
          "text": [
            "[[[-0.86383453  1.93679459  1.41399121 -0.46663936]\n",
            "  [-0.47776936 -2.18451199  0.32715603  0.20608449]\n",
            "  [ 3.81555489 -1.23853358 -2.27223349 -1.32866268]]\n",
            "\n",
            " [[-1.83293682  0.29147769  1.16400291 -0.14768144]\n",
            "  [ 0.71275759  0.03921635  2.67155702  0.625211  ]\n",
            "  [ 1.97115515 -1.54729863 -3.38928297 -0.63931854]]]\n"
          ]
        }
      ]
    },
    {
      "cell_type": "code",
      "source": [
        "!nvidia-smi"
      ],
      "metadata": {
        "colab": {
          "base_uri": "https://localhost:8080/"
        },
        "id": "ZukKw-UJg1l8",
        "outputId": "4e4bb9ae-0fb6-4e50-da34-07dfa75632ab"
      },
      "execution_count": null,
      "outputs": [
        {
          "output_type": "stream",
          "name": "stdout",
          "text": [
            "/bin/bash: line 1: nvidia-smi: command not found\n"
          ]
        }
      ]
    },
    {
      "cell_type": "code",
      "source": [
        "b = b.to(device0) # gpu에 올림"
      ],
      "metadata": {
        "id": "CNA4xOTS2BYw"
      },
      "execution_count": null,
      "outputs": []
    },
    {
      "cell_type": "code",
      "source": [
        "print(b)"
      ],
      "metadata": {
        "colab": {
          "base_uri": "https://localhost:8080/"
        },
        "id": "DLHTHb-z3IOC",
        "outputId": "61d06b5f-b964-4266-e1f7-27764191282b"
      },
      "execution_count": null,
      "outputs": [
        {
          "output_type": "stream",
          "name": "stdout",
          "text": [
            "tensor([[-1.3305,  1.2656,  1.1461,  0.0550],\n",
            "        [ 0.7428, -0.2982,  0.7659,  1.0880],\n",
            "        [ 1.6658, -1.2286, -2.9042, -0.6774]], device='cuda:0')\n"
          ]
        }
      ]
    },
    {
      "cell_type": "code",
      "source": [
        "print(a+b) # a는 cpu, b는 gpu 위에 있으므로 계산 안 됨."
      ],
      "metadata": {
        "colab": {
          "base_uri": "https://localhost:8080/",
          "height": 201
        },
        "id": "0ao3FkwC3JCf",
        "outputId": "608c76a5-e6cf-4113-912b-e723540f4481"
      },
      "execution_count": null,
      "outputs": [
        {
          "output_type": "error",
          "ename": "RuntimeError",
          "evalue": "ignored",
          "traceback": [
            "\u001b[0;31m---------------------------------------------------------------------------\u001b[0m",
            "\u001b[0;31mRuntimeError\u001b[0m                              Traceback (most recent call last)",
            "\u001b[0;32m<ipython-input-21-85111a3ab660>\u001b[0m in \u001b[0;36m<cell line: 1>\u001b[0;34m()\u001b[0m\n\u001b[0;32m----> 1\u001b[0;31m \u001b[0mprint\u001b[0m\u001b[0;34m(\u001b[0m\u001b[0ma\u001b[0m\u001b[0;34m+\u001b[0m\u001b[0mb\u001b[0m\u001b[0;34m)\u001b[0m\u001b[0;34m\u001b[0m\u001b[0;34m\u001b[0m\u001b[0m\n\u001b[0m",
            "\u001b[0;31mRuntimeError\u001b[0m: Expected all tensors to be on the same device, but found at least two devices, cuda:0 and cpu!"
          ]
        }
      ]
    },
    {
      "cell_type": "code",
      "source": [
        "a = torch.tensor(a_np).to(device0) # a를 gpu에 올림"
      ],
      "metadata": {
        "id": "ectPyblF3KtB"
      },
      "execution_count": null,
      "outputs": []
    },
    {
      "cell_type": "code",
      "source": [
        "print(a+b)"
      ],
      "metadata": {
        "colab": {
          "base_uri": "https://localhost:8080/"
        },
        "id": "5uUOWn-038x7",
        "outputId": "f96ce0ee-f3c8-4f4c-c260-820d0180038b"
      },
      "execution_count": null,
      "outputs": [
        {
          "output_type": "stream",
          "name": "stdout",
          "text": [
            "tensor([[[-0.8638,  1.9368,  1.4140, -0.4666],\n",
            "         [-0.4778, -2.1845,  0.3272,  0.2061],\n",
            "         [ 3.8156, -1.2385, -2.2722, -1.3287]],\n",
            "\n",
            "        [[-1.8329,  0.2915,  1.1640, -0.1477],\n",
            "         [ 0.7128,  0.0392,  2.6716,  0.6252],\n",
            "         [ 1.9712, -1.5473, -3.3893, -0.6393]]], device='cuda:0',\n",
            "       dtype=torch.float64)\n"
          ]
        }
      ]
    },
    {
      "cell_type": "code",
      "source": [
        "!nvidia-smi"
      ],
      "metadata": {
        "colab": {
          "base_uri": "https://localhost:8080/"
        },
        "id": "G3vTkfBd394d",
        "outputId": "e62bfe72-1c14-42b0-f52c-e8688e1d1296"
      },
      "execution_count": null,
      "outputs": [
        {
          "output_type": "stream",
          "name": "stdout",
          "text": [
            "Wed Sep 13 04:50:12 2023       \n",
            "+-----------------------------------------------------------------------------+\n",
            "| NVIDIA-SMI 525.105.17   Driver Version: 525.105.17   CUDA Version: 12.0     |\n",
            "|-------------------------------+----------------------+----------------------+\n",
            "| GPU  Name        Persistence-M| Bus-Id        Disp.A | Volatile Uncorr. ECC |\n",
            "| Fan  Temp  Perf  Pwr:Usage/Cap|         Memory-Usage | GPU-Util  Compute M. |\n",
            "|                               |                      |               MIG M. |\n",
            "|===============================+======================+======================|\n",
            "|   0  Tesla T4            Off  | 00000000:00:04.0 Off |                    0 |\n",
            "| N/A   61C    P0    27W /  70W |    601MiB / 15360MiB |      0%      Default |\n",
            "|                               |                      |                  N/A |\n",
            "+-------------------------------+----------------------+----------------------+\n",
            "                                                                               \n",
            "+-----------------------------------------------------------------------------+\n",
            "| Processes:                                                                  |\n",
            "|  GPU   GI   CI        PID   Type   Process name                  GPU Memory |\n",
            "|        ID   ID                                                   Usage      |\n",
            "|=============================================================================|\n",
            "+-----------------------------------------------------------------------------+\n"
          ]
        }
      ]
    },
    {
      "cell_type": "code",
      "source": [
        "print(b.shape)"
      ],
      "metadata": {
        "colab": {
          "base_uri": "https://localhost:8080/"
        },
        "id": "-gPtwqIu4C9y",
        "outputId": "1029a045-aa45-4958-87a7-217960dd7a3d"
      },
      "execution_count": null,
      "outputs": [
        {
          "output_type": "stream",
          "name": "stdout",
          "text": [
            "torch.Size([3, 4])\n"
          ]
        }
      ]
    },
    {
      "cell_type": "code",
      "source": [
        "print(b.dim())"
      ],
      "metadata": {
        "colab": {
          "base_uri": "https://localhost:8080/"
        },
        "id": "nUX6T2ohCbTz",
        "outputId": "7b0998fd-90c0-4bc2-94e5-4e825b92a9fb"
      },
      "execution_count": null,
      "outputs": [
        {
          "output_type": "stream",
          "name": "stdout",
          "text": [
            "2\n"
          ]
        }
      ]
    },
    {
      "cell_type": "code",
      "source": [
        "print(a.dim())"
      ],
      "metadata": {
        "colab": {
          "base_uri": "https://localhost:8080/"
        },
        "id": "n2h2a_bGCcH2",
        "outputId": "a11e54f4-1eab-469a-f59d-126c42d466b1"
      },
      "execution_count": null,
      "outputs": [
        {
          "output_type": "stream",
          "name": "stdout",
          "text": [
            "3\n"
          ]
        }
      ]
    },
    {
      "cell_type": "code",
      "source": [
        "c = torch.zeros(5,4)"
      ],
      "metadata": {
        "id": "eM52ZT4bCdZr"
      },
      "execution_count": null,
      "outputs": []
    },
    {
      "cell_type": "code",
      "source": [
        "print(c)"
      ],
      "metadata": {
        "colab": {
          "base_uri": "https://localhost:8080/"
        },
        "id": "T5syNpqEChd1",
        "outputId": "33139d68-b295-454c-d918-ba4fa987ce99"
      },
      "execution_count": null,
      "outputs": [
        {
          "output_type": "stream",
          "name": "stdout",
          "text": [
            "tensor([[0., 0., 0., 0.],\n",
            "        [0., 0., 0., 0.],\n",
            "        [0., 0., 0., 0.],\n",
            "        [0., 0., 0., 0.],\n",
            "        [0., 0., 0., 0.]])\n"
          ]
        }
      ]
    },
    {
      "cell_type": "code",
      "source": [
        "d = torch.ones(5,4)"
      ],
      "metadata": {
        "id": "UzlNljSXCiGh"
      },
      "execution_count": null,
      "outputs": []
    },
    {
      "cell_type": "code",
      "source": [
        "print(d)"
      ],
      "metadata": {
        "colab": {
          "base_uri": "https://localhost:8080/"
        },
        "id": "tI4EseN3CxCm",
        "outputId": "36572305-efb2-489b-b0df-a00ed84b9acd"
      },
      "execution_count": null,
      "outputs": [
        {
          "output_type": "stream",
          "name": "stdout",
          "text": [
            "tensor([[1., 1., 1., 1.],\n",
            "        [1., 1., 1., 1.],\n",
            "        [1., 1., 1., 1.],\n",
            "        [1., 1., 1., 1.],\n",
            "        [1., 1., 1., 1.]])\n"
          ]
        }
      ]
    },
    {
      "cell_type": "code",
      "source": [
        "e = torch.eye(3)"
      ],
      "metadata": {
        "id": "eLkCHNuNCxlZ"
      },
      "execution_count": null,
      "outputs": []
    },
    {
      "cell_type": "code",
      "source": [
        "print(e)"
      ],
      "metadata": {
        "colab": {
          "base_uri": "https://localhost:8080/"
        },
        "id": "xUB4i1GFC1fs",
        "outputId": "d505e971-6410-4d17-baf7-2cfdd1e46bb9"
      },
      "execution_count": null,
      "outputs": [
        {
          "output_type": "stream",
          "name": "stdout",
          "text": [
            "tensor([[1., 0., 0.],\n",
            "        [0., 1., 0.],\n",
            "        [0., 0., 1.]])\n"
          ]
        }
      ]
    },
    {
      "cell_type": "code",
      "source": [
        "f = torch.zeros_like(b) # b와 같은 shape인 array"
      ],
      "metadata": {
        "id": "fWTF81w2C2bP"
      },
      "execution_count": null,
      "outputs": []
    },
    {
      "cell_type": "code",
      "source": [
        "print(f)"
      ],
      "metadata": {
        "colab": {
          "base_uri": "https://localhost:8080/"
        },
        "id": "HLazZMrMC9x2",
        "outputId": "f9d3e988-cd46-49e5-b9e3-4e4e8d5a7813"
      },
      "execution_count": null,
      "outputs": [
        {
          "output_type": "stream",
          "name": "stdout",
          "text": [
            "tensor([[0., 0., 0., 0.],\n",
            "        [0., 0., 0., 0.],\n",
            "        [0., 0., 0., 0.]], device='cuda:0')\n"
          ]
        }
      ]
    },
    {
      "cell_type": "code",
      "source": [
        "a"
      ],
      "metadata": {
        "colab": {
          "base_uri": "https://localhost:8080/"
        },
        "id": "lKRFAsCeDBUl",
        "outputId": "ef56cfa0-188e-4d29-9aca-4f4572e46a3c"
      },
      "execution_count": null,
      "outputs": [
        {
          "output_type": "execute_result",
          "data": {
            "text/plain": [
              "tensor([[[ 0.4666,  0.6712,  0.2679, -0.5216],\n",
              "         [-1.2206, -1.8863, -0.4387, -0.8820],\n",
              "         [ 2.1497, -0.0099,  0.6319, -0.6513]],\n",
              "\n",
              "        [[-0.5025, -0.9741,  0.0179, -0.2027],\n",
              "         [-0.0300,  0.3374,  1.9057, -0.4628],\n",
              "         [ 0.3053, -0.3187, -0.4851,  0.0381]]], device='cuda:0',\n",
              "       dtype=torch.float64)"
            ]
          },
          "metadata": {},
          "execution_count": 39
        }
      ]
    },
    {
      "cell_type": "code",
      "source": [
        "a = a.cpu()"
      ],
      "metadata": {
        "id": "VkkU3E47C-1Y"
      },
      "execution_count": null,
      "outputs": []
    },
    {
      "cell_type": "code",
      "source": [
        "print(a)"
      ],
      "metadata": {
        "colab": {
          "base_uri": "https://localhost:8080/"
        },
        "id": "J0qmzXntDCA1",
        "outputId": "b37367a3-576a-4375-add0-5bc385bbc70a"
      },
      "execution_count": null,
      "outputs": [
        {
          "output_type": "stream",
          "name": "stdout",
          "text": [
            "tensor([[[ 0.4666,  0.6712,  0.2679, -0.5216],\n",
            "         [-1.2206, -1.8863, -0.4387, -0.8820],\n",
            "         [ 2.1497, -0.0099,  0.6319, -0.6513]],\n",
            "\n",
            "        [[-0.5025, -0.9741,  0.0179, -0.2027],\n",
            "         [-0.0300,  0.3374,  1.9057, -0.4628],\n",
            "         [ 0.3053, -0.3187, -0.4851,  0.0381]]], dtype=torch.float64)\n"
          ]
        }
      ]
    },
    {
      "cell_type": "code",
      "source": [
        "b = b.cpu()"
      ],
      "metadata": {
        "id": "XXnQlduJDCzz"
      },
      "execution_count": null,
      "outputs": []
    },
    {
      "cell_type": "code",
      "source": [
        "print(a+b)"
      ],
      "metadata": {
        "colab": {
          "base_uri": "https://localhost:8080/"
        },
        "id": "qKm9VTFjDFTE",
        "outputId": "23a7cd06-f7e6-4456-b13a-b041f72b9b1b"
      },
      "execution_count": null,
      "outputs": [
        {
          "output_type": "stream",
          "name": "stdout",
          "text": [
            "tensor([[[-0.8638,  1.9368,  1.4140, -0.4666],\n",
            "         [-0.4778, -2.1845,  0.3272,  0.2061],\n",
            "         [ 3.8156, -1.2385, -2.2722, -1.3287]],\n",
            "\n",
            "        [[-1.8329,  0.2915,  1.1640, -0.1477],\n",
            "         [ 0.7128,  0.0392,  2.6716,  0.6252],\n",
            "         [ 1.9712, -1.5473, -3.3893, -0.6393]]], dtype=torch.float64)\n"
          ]
        }
      ]
    },
    {
      "cell_type": "code",
      "source": [
        "g = torch.ones_like(a)"
      ],
      "metadata": {
        "id": "H-Lb4AZ4DGHf"
      },
      "execution_count": null,
      "outputs": []
    },
    {
      "cell_type": "code",
      "source": [
        "print(g)"
      ],
      "metadata": {
        "id": "6WkGG9sGDLnT",
        "outputId": "3997be9d-61a2-4429-85d4-58701376da5e",
        "colab": {
          "base_uri": "https://localhost:8080/"
        }
      },
      "execution_count": null,
      "outputs": [
        {
          "output_type": "stream",
          "name": "stdout",
          "text": [
            "tensor([[[1., 1., 1., 1.],\n",
            "         [1., 1., 1., 1.],\n",
            "         [1., 1., 1., 1.]],\n",
            "\n",
            "        [[1., 1., 1., 1.],\n",
            "         [1., 1., 1., 1.],\n",
            "         [1., 1., 1., 1.]]], dtype=torch.float64)\n"
          ]
        }
      ]
    },
    {
      "cell_type": "code",
      "source": [
        "a = a.to(device0)"
      ],
      "metadata": {
        "id": "vXAIHhKgDMby"
      },
      "execution_count": null,
      "outputs": []
    }
  ]
}